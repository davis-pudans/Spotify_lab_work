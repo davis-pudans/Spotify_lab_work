{
 "cells": [
  {
   "cell_type": "markdown",
   "metadata": {},
   "source": [
    "# Spotify scraping"
   ]
  },
  {
   "cell_type": "code",
   "execution_count": 7,
   "metadata": {},
   "outputs": [],
   "source": [
    "from bs4 import BeautifulSoup\n",
    "import requests\n",
    "import pandas as pd\n",
    "import random"
   ]
  },
  {
   "cell_type": "code",
   "execution_count": 8,
   "metadata": {},
   "outputs": [],
   "source": [
    "url = \"https://www.billboard.com/charts/hot-100\""
   ]
  },
  {
   "cell_type": "code",
   "execution_count": 9,
   "metadata": {},
   "outputs": [],
   "source": [
    "response = requests.get(url)"
   ]
  },
  {
   "cell_type": "code",
   "execution_count": 10,
   "metadata": {},
   "outputs": [],
   "source": [
    "soup=BeautifulSoup(response.content, 'html.parser')"
   ]
  },
  {
   "cell_type": "code",
   "execution_count": 11,
   "metadata": {},
   "outputs": [],
   "source": [
    "song = [song.text for song in soup.select(\"span.chart-element__information__song.text--truncate.color--primary\")]\n",
    "artist = [artist.text for artist in soup.select(\"span.chart-element__information__artist.text--truncate.color--secondary\")]"
   ]
  },
  {
   "cell_type": "code",
   "execution_count": 79,
   "metadata": {
    "scrolled": true
   },
   "outputs": [],
   "source": [
    "top100=pd.DataFrame({'song' : song, 'artist': artist})"
   ]
  },
  {
   "cell_type": "code",
   "execution_count": 22,
   "metadata": {},
   "outputs": [],
   "source": [
    "#top100.to_csv('top100.csv')"
   ]
  },
  {
   "cell_type": "code",
   "execution_count": 13,
   "metadata": {},
   "outputs": [],
   "source": [
    "#spellchecker\n",
    "from autocorrect import Speller\n",
    "spell = Speller(lang='en')"
   ]
  },
  {
   "cell_type": "markdown",
   "metadata": {},
   "source": [
    "# Function"
   ]
  },
  {
   "cell_type": "code",
   "execution_count": 73,
   "metadata": {},
   "outputs": [],
   "source": [
    "def anothersong():\n",
    "    in_song=input(\"What is your favorite song rn?\")\n",
    "    if in_song != spell(in_song): #checks spelling\n",
    "        print(\"Did you mean '\" + spell(in_song) + \"'? Y/N\") #prompts if spelling is correct with Y/N\n",
    "        answer=input()\n",
    "        if answer == \"N\": \n",
    "            if sum(top100['song'].str.lower().str.contains(str.lower(in_song)))>0: #checks if song is in top100\n",
    "                random_index=random.randint(0,99) #create random index from top100\n",
    "                if sum(top100[top100['song'].str.lower().str.contains(str.lower(in_song))].eq(top100.iloc[random_index]).sum(axis=1))==0:\n",
    "                    print(\"You will love '\" + top100['song'][random_index] + \"' by \" + top100['artist'][random_index]) #checks if the random is not same as entered song\n",
    "                else:\n",
    "                    print(False) #need to change it into while i guess but cant figure it out\n",
    "            else:\n",
    "                print(\"Your song is sooo not hot\")\n",
    "        elif answer == 'Y':\n",
    "            in_song=spell(in_song)\n",
    "            if sum(top100['song'].str.lower().str.contains(str.lower(in_song)))>0: \n",
    "                random_index=random.randint(0,99) \n",
    "                if sum(top100[top100['song'].str.lower().str.contains(str.lower(in_song))].eq(top100.iloc[random_index]).sum(axis=1))==0:\n",
    "                    print(\"You will love '\" + top100['song'][random_index] + \"' by \" + top100['artist'][random_index]) \n",
    "                else:\n",
    "                    print(False) #need to change it into while i guess but cant figure it out\n",
    "        else:\n",
    "            print('Dude, u cant type')\n",
    "    else:\n",
    "        if sum(top100['song'].str.lower().str.contains(str.lower(in_song)))>0: #checks if song is in top100\n",
    "                random_index=random.randint(0,99) #create random index from top100\n",
    "                if sum(top100[top100['song'].str.lower().str.contains(str.lower(in_song))].eq(top100.iloc[random_index]).sum(axis=1))==0:\n",
    "                    print(\"You will love '\" + top100['song'][random_index] + \"' by \" + top100['artist'][random_index]) #checks if the random is not same as entered song\n",
    "                else:\n",
    "                    print(False) #need to change it into while i guess but cant figure it out\n",
    "        "
   ]
  },
  {
   "cell_type": "code",
   "execution_count": 78,
   "metadata": {
    "scrolled": true
   },
   "outputs": [
    {
     "name": "stdout",
     "output_type": "stream",
     "text": [
      "What is your favorite song rn?savee your tears\n",
      "Did you mean 'save your tears'? Y/N\n",
      "no\n",
      "Dude, u cant type\n"
     ]
    }
   ],
   "source": [
    "anothersong()   "
   ]
  }
 ],
 "metadata": {
  "kernelspec": {
   "display_name": "Python 3",
   "language": "python",
   "name": "python3"
  },
  "language_info": {
   "codemirror_mode": {
    "name": "ipython",
    "version": 3
   },
   "file_extension": ".py",
   "mimetype": "text/x-python",
   "name": "python",
   "nbconvert_exporter": "python",
   "pygments_lexer": "ipython3",
   "version": "3.8.5"
  }
 },
 "nbformat": 4,
 "nbformat_minor": 4
}
